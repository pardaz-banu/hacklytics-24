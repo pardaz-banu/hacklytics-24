{
 "cells": [
  {
   "cell_type": "code",
   "execution_count": 1,
   "id": "ca30d894",
   "metadata": {
    "scrolled": true
   },
   "outputs": [],
   "source": [
    "# %pip install --upgrade --quiet  langchain-pinecone langchain-openai langchain\n",
    "# %pip install --upgrade --quiet  langchain sentence_transformers\n",
    "# %pip install --upgrade --quiet  gpt4all > /dev/null"
   ]
  },
  {
   "cell_type": "code",
   "execution_count": 1,
   "id": "09ec375f",
   "metadata": {},
   "outputs": [
    {
     "name": "stderr",
     "output_type": "stream",
     "text": [
      "/usr/local/lib/python3.9/site-packages/torch/_utils.py:831: UserWarning: TypedStorage is deprecated. It will be removed in the future and UntypedStorage will be the only storage class. This should only matter to you if you are using storages directly.  To access UntypedStorage directly, use tensor.untyped_storage() instead of tensor.storage()\n",
      "  return self.fget.__get__(instance, owner)()\n"
     ]
    }
   ],
   "source": [
    "from langchain.text_splitter import CharacterTextSplitter\n",
    "from langchain_community.document_loaders import TextLoader\n",
    "from langchain_community.embeddings import HuggingFaceEmbeddings\n",
    "\n",
    "embeddings = HuggingFaceEmbeddings(model_name=\"all-MiniLM-L6-v2\")"
   ]
  },
  {
   "cell_type": "code",
   "execution_count": 2,
   "id": "2cbd1500",
   "metadata": {},
   "outputs": [
    {
     "data": {
      "text/plain": [
       "(22, 384)"
      ]
     },
     "execution_count": 2,
     "metadata": {},
     "output_type": "execute_result"
    }
   ],
   "source": [
    "f = open(\"./knowledge_base.txt\",'r')\n",
    "content = f.read()\n",
    "\n",
    "chunks = content.split(\"$$\")\n",
    "chunks \n",
    "\n",
    "res = embeddings.embed_documents(chunks)\n",
    "len(res), len(res[0])"
   ]
  },
  {
   "cell_type": "code",
   "execution_count": 3,
   "id": "6a7e9079",
   "metadata": {},
   "outputs": [],
   "source": [
    "# from langchain_pinecone import Pinecone\n",
    "from pinecone import Pinecone\n",
    "from pinecone import PodSpec\n",
    "\n",
    "api_key = \"2b6a0552-7fae-43bb-af69-eb909be154f5\"\n",
    "environment = \"gcp-starter\"\n",
    "\n",
    "pc = Pinecone(api_key=api_key)\n",
    "spec = PodSpec(environment=environment)\n",
    "\n",
    "index_name = \"pharma-llama-kb\"\n",
    "\n",
    "# if index_name in pc.list_indexes().names():\n",
    "#     pc.delete_index(index_name)\n",
    "\n",
    "if index_name not in pc.list_indexes().names():\n",
    "    # we create a new index\n",
    "    pc.create_index(\n",
    "            index_name,\n",
    "            dimension=384,  # dimensionality of miniLM-L6\n",
    "            metric='dotproduct',\n",
    "            spec=spec\n",
    "        )"
   ]
  },
  {
   "cell_type": "code",
   "execution_count": 7,
   "id": "44eb1904",
   "metadata": {},
   "outputs": [
    {
     "data": {
      "text/plain": [
       "{'dimension': 384,\n",
       " 'index_fullness': 0.0,\n",
       " 'namespaces': {},\n",
       " 'total_vector_count': 0}"
      ]
     },
     "execution_count": 7,
     "metadata": {},
     "output_type": "execute_result"
    }
   ],
   "source": [
    "index = pc.Index(index_name)\n",
    "\n",
    "# view index stats\n",
    "index.describe_index_stats()\n"
   ]
  },
  {
   "cell_type": "code",
   "execution_count": 4,
   "id": "258bcb9b",
   "metadata": {},
   "outputs": [
    {
     "data": {
      "text/plain": [
       "22"
      ]
     },
     "execution_count": 4,
     "metadata": {},
     "output_type": "execute_result"
    }
   ],
   "source": [
    "len(chunks)"
   ]
  },
  {
   "cell_type": "code",
   "execution_count": 8,
   "id": "aad32527",
   "metadata": {},
   "outputs": [],
   "source": [
    "from tqdm.auto import tqdm\n",
    "from uuid import uuid4\n",
    "\n",
    "batch_limit = 100\n",
    "\n",
    "texts = []\n",
    "idx = []\n",
    "ids = []\n",
    "metadata = []\n",
    "\n",
    "for i, text in enumerate(chunks):\n",
    "    texts.extend(text)\n",
    "    idx.extend(str(i))\n",
    "    metadata.extend([{'text': text}])\n",
    "    \n",
    "    # if we have reached the batch_limit we can add texts\n",
    "    if len(texts) >= batch_limit:\n",
    "        ids = [str(uuid4()) for _ in range(len(texts))]\n",
    "        embeds = embeddings.embed_documents(texts)\n",
    "        index.upsert(vectors=zip(ids, embeds, metadata))\n",
    "        texts = []\n",
    "        idx = []\n",
    "        ids = []\n",
    "        metadata = []\n",
    "        \n",
    "if len(texts) > 0 :\n",
    "    ids = [str(uuid4()) for _ in range(len(texts))]\n",
    "    embeds = embeddings.embed_documents(texts)\n",
    "    index.upsert(vectors=zip(ids, embeds, metadata))\n"
   ]
  },
  {
   "cell_type": "code",
   "execution_count": 22,
   "id": "578ea2e1",
   "metadata": {},
   "outputs": [],
   "source": [
    "from langchain.vectorstores import Pinecone\n",
    "\n",
    "text_field = \"text\"  # the metadata field that contains our text\n",
    "\n",
    "# initialize the vector store object\n",
    "vectorstore = Pinecone(\n",
    "    index, embeddings.embed_query, text_field\n",
    ")"
   ]
  },
  {
   "cell_type": "code",
   "execution_count": 24,
   "id": "0268972a",
   "metadata": {},
   "outputs": [
    {
     "data": {
      "text/plain": [
       "[Document(page_content='\\nCK-MB (ng/mL):\\n- Good: <3 males; <2 females\\n- Moderate: 3-4 males; 2-3 females  \\n- Poor: 5-10 males; 3.5-6 females\\n- Dangerous: >10 males; >6 females\\n'),\n",
       " Document(page_content='Blood Pressure:\\nNormal: Less than 120/80 mmHg\\nElevated: 120-129/80-89 mmHg\\nHigh Blood Pressure Stage 1: 130-139/80-89 mmHg\\nHigh Blood Pressure Stage 2: 140/90 mmHg or higher\\nHypotension: Less than 90/60 mmHg\\n'),\n",
       " Document(page_content='\\nCholesterol Levels:\\nDesirable: Under 200 mg/dL\\nBorderline High: 200-239 mg/dL\\nHigh: 240 mg/dL and above\\n'),\n",
       " Document(page_content='\\nECG:\\nNormal: Normal rhythm, rate 60-100 bpm, normal waveform\\nAbnormal: Arrhythmias, slowed/fast heart rate, ST segment changes, T wave inversion\\n'),\n",
       " Document(page_content='\\nTroponin (ng/mL):\\n- Good: <0.01  \\n- Moderate: 0.01-0.03\\n- Poor: 0.04-0.06 \\n- Dangerous: >0.06\\n'),\n",
       " Document(page_content='\\nCreatinine (mg/dL):\\n- Good: 0.6-1.0 \\n- Moderate: 1.1-1.3\\n- Poor: 1.4-1.9\\n- Dangerous: ≥2.0\\n'),\n",
       " Document(page_content='\\nEjection Fraction:\\nNormal: 50-70%\\nMildly Abnormal: 40-49%\\nModerately Abnormal: 30-39%\\nSeverely Abnormal: Below 30%\\n'),\n",
       " Document(page_content='\\nStress Test:\\nNegative: No significant ECG changes, normal cardiac workload achieved\\nPositive: ECG changes like ST depression indicating potential coronary artery disease\\n'),\n",
       " Document(page_content='\\nChest Pain:\\n- Characteristics: \\n  - Type: sharp, stabbing (pericarditis), crushing, pressure, tightness (angina), burning (GERD)\\n  - Location: substernal (heart-related), left side (heart), right side (lungs, reflux), radiates to shoulder, arm, jaw, neck (cardiac) \\n  - Duration: seconds (angina), minutes (MI), hours (pericarditis), may be intermittent (angina)\\n  - Triggers: exertion, emotional stress\\n  - Relieving factors: rest, nitroglycerin \\n  - Aggravating/relieving factors: exertion aggravates (angina), rest relieves (angina), positional changes (pericarditis, reflux)\\n- Differential Diagnoses:\\n  - Cardiac: angina, myocardial infarction (MI), pericarditis, aortic dissection\\n  - Non-cardiac: reflux, muscle strain, anxiety\\n  - Pulmonary: pneumonia, pulmonary embolism (PE)\\n  - Gastrointestinal: reflux/GERD, esophageal spasm\\n  - Musculoskeletal: muscle strain, trauma\\n  - Anxiety: panic attacks\\n'),\n",
       " Document(page_content='\\nPotassium (mEq/L):\\n- Good: 3.5-4.5\\n- Moderate: 4.6-5.0  \\n- Poor: 5.1-5.5\\n- Dangerous: <3.0 or >5.5\\n')]"
      ]
     },
     "execution_count": 24,
     "metadata": {},
     "output_type": "execute_result"
    }
   ],
   "source": [
    "query = \"\"\n",
    "\n",
    "vectorstore.similarity_search(\n",
    "    query,  # our search query\n",
    "    k=10 \n",
    ")"
   ]
  },
  {
   "cell_type": "code",
   "execution_count": null,
   "id": "33d2c16b",
   "metadata": {},
   "outputs": [],
   "source": []
  }
 ],
 "metadata": {
  "kernelspec": {
   "display_name": "Python 3 (ipykernel)",
   "language": "python",
   "name": "python3"
  },
  "language_info": {
   "codemirror_mode": {
    "name": "ipython",
    "version": 3
   },
   "file_extension": ".py",
   "mimetype": "text/x-python",
   "name": "python",
   "nbconvert_exporter": "python",
   "pygments_lexer": "ipython3",
   "version": "3.9.16"
  }
 },
 "nbformat": 4,
 "nbformat_minor": 5
}
